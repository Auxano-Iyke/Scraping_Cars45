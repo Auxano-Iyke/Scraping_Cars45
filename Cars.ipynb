{
 "cells": [
  {
   "cell_type": "code",
   "execution_count": null,
   "metadata": {},
   "outputs": [],
   "source": [
    "# Main Link to work with\n",
    "#https://buy.cars45.com/cars&filter=&year_from=1980&year_to=2019"
   ]
  },
  {
   "cell_type": "code",
   "execution_count": 1,
   "metadata": {},
   "outputs": [],
   "source": [
    "import requests"
   ]
  },
  {
   "cell_type": "code",
   "execution_count": 2,
   "metadata": {},
   "outputs": [],
   "source": [
    "from bs4 import BeautifulSoup"
   ]
  },
  {
   "cell_type": "code",
   "execution_count": 4,
   "metadata": {},
   "outputs": [
    {
     "name": "stdout",
     "output_type": "stream",
     "text": [
      "<!doctype html>\n",
      "<html lang=\"en\">\n",
      "<head>\n",
      "  <!-- Required meta tags -->\n",
      "  <meta charset=\"utf-8\">\n",
      "  <meta http-equiv=\"Cache-Control\" content=\"no-cache\" />\n",
      "<meta http-equiv=\"Pragma\" content=\"no-cache\" />\n",
      "<meta http-equiv=\"Expires\" content=\"0\" />\n",
      "  <!-- <meta http-equiv=\"Cache-control\" content=\"public\"> -->\n",
      "  <!-- <meta name=\"viewport\" content=\"width=device-width, initial-scale=1, shrink-to-fit=no\"> -->\n",
      "  <meta name=\"viewport\" content=\"width=device-width, minimum-scale=1.0, maximum-scale=1.0, user-sc\n"
     ]
    }
   ],
   "source": [
    "url = \"https://buy.cars45.com/\"\n",
    "response = requests.get(url)\n",
    "print(response.text[:500])"
   ]
  },
  {
   "cell_type": "code",
   "execution_count": 5,
   "metadata": {},
   "outputs": [
    {
     "data": {
      "text/plain": [
       "bs4.BeautifulSoup"
      ]
     },
     "execution_count": 5,
     "metadata": {},
     "output_type": "execute_result"
    }
   ],
   "source": [
    "soup = BeautifulSoup(response.text, 'html.parser')\n",
    "type(soup)"
   ]
  },
  {
   "cell_type": "code",
   "execution_count": 13,
   "metadata": {},
   "outputs": [],
   "source": [
    "car_cat = soup.find_all('h6')"
   ]
  },
  {
   "cell_type": "code",
   "execution_count": 21,
   "metadata": {},
   "outputs": [
    {
     "name": "stdout",
     "output_type": "stream",
     "text": [
      "Acura https://buy.cars45.com/acura\n",
      "Audi https://buy.cars45.com/audi\n",
      "Bentley https://buy.cars45.com/bentley\n",
      "BMW https://buy.cars45.com/bmw\n",
      "Brilliance https://buy.cars45.com/brilliance\n",
      "Buick https://buy.cars45.com/buick\n",
      "Cadillac https://buy.cars45.com/cadillac\n",
      "CHANGAN https://buy.cars45.com/changan\n",
      "Chevrolet https://buy.cars45.com/chevrolet\n",
      "Chrysler https://buy.cars45.com/chrysler\n",
      "Citroen https://buy.cars45.com/citroen\n",
      "Daewoo https://buy.cars45.com/daewoo\n",
      "Dodge https://buy.cars45.com/dodge\n",
      "Fiat https://buy.cars45.com/fiat\n",
      "Ford https://buy.cars45.com/ford\n",
      "Foton https://buy.cars45.com/foton\n",
      "GAC https://buy.cars45.com/gac\n",
      "Geely https://buy.cars45.com/geely\n",
      "GMC https://buy.cars45.com/gmc\n",
      "Haima https://buy.cars45.com/haima\n",
      "Honda https://buy.cars45.com/honda\n",
      "Hummer https://buy.cars45.com/hummer\n",
      "Hyundai https://buy.cars45.com/hyundai\n",
      "Infiniti https://buy.cars45.com/infiniti\n",
      "Infinity https://buy.cars45.com/infinity\n",
      "Innoson https://buy.cars45.com/innoson\n",
      "Isuzu https://buy.cars45.com/isuzu\n",
      "Iveco https://buy.cars45.com/cars?filter=7046\n",
      "JAC https://buy.cars45.com/cars?filter=1904\n",
      "Jaguar https://buy.cars45.com/jaguar\n",
      "Jeep https://buy.cars45.com/jeep\n",
      "Kia https://buy.cars45.com/kia\n",
      "King https://buy.cars45.com/king\n",
      "Land Rover https://buy.cars45.com/land-rover\n",
      "Lexus https://buy.cars45.com/lexus\n",
      "Lincoln https://buy.cars45.com/lincoln\n",
      "Mazda https://buy.cars45.com/mazda\n",
      "Mercedes https://buy.cars45.com/mercedes\n",
      "Mercedes-Benz https://buy.cars45.com/cars?filter=48\n",
      "Mercury https://buy.cars45.com/mercury\n",
      "MG https://buy.cars45.com/mg\n",
      "Mini https://buy.cars45.com/mini\n",
      "Mitsubishi https://buy.cars45.com/mitsubishi\n",
      "Nissan https://buy.cars45.com/nissan\n",
      "Opel https://buy.cars45.com/opel\n",
      "Peugeot https://buy.cars45.com/peugeot\n",
      "Pontiac https://buy.cars45.com/pontiac\n",
      "Porsche https://buy.cars45.com/porsche\n",
      "Renault https://buy.cars45.com/renault\n",
      "Rover https://buy.cars45.com/rover\n",
      "Saturn https://buy.cars45.com/saturn\n",
      "Scion https://buy.cars45.com/scion\n",
      "Skoda https://buy.cars45.com/skoda\n",
      "Ssangyong https://buy.cars45.com/ssangyong\n",
      "Suzuki https://buy.cars45.com/suzuki\n",
      "Tata https://buy.cars45.com/tata\n",
      "Toyota https://buy.cars45.com/toyota\n",
      "Volkswagen https://buy.cars45.com/volkswagen\n",
      "Volvo https://buy.cars45.com/volvo\n",
      "Acura https://buy.cars45.com/acura\n",
      "Audi https://buy.cars45.com/audi\n",
      "Bentley https://buy.cars45.com/bentley\n",
      "BMW https://buy.cars45.com/bmw\n",
      "Brilliance https://buy.cars45.com/brilliance\n",
      "Buick https://buy.cars45.com/buick\n",
      "Cadillac https://buy.cars45.com/cadillac\n",
      "CHANGAN https://buy.cars45.com/changan\n",
      "Chevrolet https://buy.cars45.com/chevrolet\n",
      "Chrysler https://buy.cars45.com/chrysler\n",
      "Citroen https://buy.cars45.com/citroen\n",
      "Daewoo https://buy.cars45.com/daewoo\n",
      "Dodge https://buy.cars45.com/dodge\n",
      "Fiat https://buy.cars45.com/fiat\n",
      "Ford https://buy.cars45.com/ford\n",
      "Foton https://buy.cars45.com/foton\n",
      "GAC https://buy.cars45.com/gac\n",
      "Geely https://buy.cars45.com/geely\n",
      "GMC https://buy.cars45.com/gmc\n",
      "Haima https://buy.cars45.com/haima\n",
      "Honda https://buy.cars45.com/honda\n",
      "Hummer https://buy.cars45.com/hummer\n",
      "Hyundai https://buy.cars45.com/hyundai\n",
      "Infiniti https://buy.cars45.com/infiniti\n",
      "Infinity https://buy.cars45.com/infinity\n",
      "Innoson https://buy.cars45.com/innoson\n",
      "Isuzu https://buy.cars45.com/isuzu\n",
      "Iveco https://buy.cars45.com/cars?filter=7046\n",
      "JAC https://buy.cars45.com/cars?filter=1904\n",
      "Jaguar https://buy.cars45.com/jaguar\n",
      "Jeep https://buy.cars45.com/jeep\n",
      "Kia https://buy.cars45.com/kia\n",
      "King https://buy.cars45.com/king\n",
      "Land Rover https://buy.cars45.com/land-rover\n",
      "Lexus https://buy.cars45.com/lexus\n",
      "Lincoln https://buy.cars45.com/lincoln\n",
      "Mazda https://buy.cars45.com/mazda\n",
      "Mercedes https://buy.cars45.com/mercedes\n",
      "Mercedes-Benz https://buy.cars45.com/cars?filter=48\n",
      "Mercury https://buy.cars45.com/mercury\n",
      "MG https://buy.cars45.com/mg\n",
      "Mini https://buy.cars45.com/mini\n",
      "Mitsubishi https://buy.cars45.com/mitsubishi\n",
      "Nissan https://buy.cars45.com/nissan\n",
      "Opel https://buy.cars45.com/opel\n",
      "Peugeot https://buy.cars45.com/peugeot\n",
      "Pontiac https://buy.cars45.com/pontiac\n",
      "Porsche https://buy.cars45.com/porsche\n",
      "Renault https://buy.cars45.com/renault\n",
      "Rover https://buy.cars45.com/rover\n",
      "Saturn https://buy.cars45.com/saturn\n",
      "Scion https://buy.cars45.com/scion\n",
      "Skoda https://buy.cars45.com/skoda\n",
      "Ssangyong https://buy.cars45.com/ssangyong\n",
      "Suzuki https://buy.cars45.com/suzuki\n",
      "Tata https://buy.cars45.com/tata\n",
      "Toyota https://buy.cars45.com/toyota\n",
      "Volkswagen https://buy.cars45.com/volkswagen\n",
      "Volvo https://buy.cars45.com/volvo\n"
     ]
    }
   ],
   "source": [
    "for each in car_cat:\n",
    "    if each.a ==None:\n",
    "        pass\n",
    "    else:\n",
    "        print(each.a.text, each.a.attrs['href'])"
   ]
  },
  {
   "cell_type": "code",
   "execution_count": 24,
   "metadata": {},
   "outputs": [
    {
     "name": "stdout",
     "output_type": "stream",
     "text": [
      "Iteration Done\n",
      "['Acura', 'Audi', 'Bentley', 'BMW', 'Brilliance', 'Buick', 'Cadillac', 'CHANGAN', 'Chevrolet', 'Chrysler', 'Citroen', 'Daewoo', 'Dodge', 'Fiat', 'Ford', 'Foton', 'GAC', 'Geely', 'GMC', 'Haima', 'Honda', 'Hummer', 'Hyundai', 'Infiniti', 'Infinity', 'Innoson', 'Isuzu', 'Iveco', 'JAC', 'Jaguar', 'Jeep', 'Kia', 'King', 'Land Rover', 'Lexus', 'Lincoln', 'Mazda', 'Mercedes', 'Mercedes-Benz', 'Mercury', 'MG', 'Mini', 'Mitsubishi', 'Nissan', 'Opel', 'Peugeot', 'Pontiac', 'Porsche', 'Renault', 'Rover', 'Saturn', 'Scion', 'Skoda', 'Ssangyong', 'Suzuki', 'Tata', 'Toyota', 'Volkswagen', 'Volvo', 'Acura', 'Audi', 'Bentley', 'BMW', 'Brilliance', 'Buick', 'Cadillac', 'CHANGAN', 'Chevrolet', 'Chrysler', 'Citroen', 'Daewoo', 'Dodge', 'Fiat', 'Ford', 'Foton', 'GAC', 'Geely', 'GMC', 'Haima', 'Honda', 'Hummer', 'Hyundai', 'Infiniti', 'Infinity', 'Innoson', 'Isuzu', 'Iveco', 'JAC', 'Jaguar', 'Jeep', 'Kia', 'King', 'Land Rover', 'Lexus', 'Lincoln', 'Mazda', 'Mercedes', 'Mercedes-Benz', 'Mercury', 'MG', 'Mini', 'Mitsubishi', 'Nissan', 'Opel', 'Peugeot', 'Pontiac', 'Porsche', 'Renault', 'Rover', 'Saturn', 'Scion', 'Skoda', 'Ssangyong', 'Suzuki', 'Tata', 'Toyota', 'Volkswagen', 'Volvo']\n",
      "['https://buy.cars45.com/acura', 'https://buy.cars45.com/audi', 'https://buy.cars45.com/bentley', 'https://buy.cars45.com/bmw', 'https://buy.cars45.com/brilliance', 'https://buy.cars45.com/buick', 'https://buy.cars45.com/cadillac', 'https://buy.cars45.com/changan', 'https://buy.cars45.com/chevrolet', 'https://buy.cars45.com/chrysler', 'https://buy.cars45.com/citroen', 'https://buy.cars45.com/daewoo', 'https://buy.cars45.com/dodge', 'https://buy.cars45.com/fiat', 'https://buy.cars45.com/ford', 'https://buy.cars45.com/foton', 'https://buy.cars45.com/gac', 'https://buy.cars45.com/geely', 'https://buy.cars45.com/gmc', 'https://buy.cars45.com/haima', 'https://buy.cars45.com/honda', 'https://buy.cars45.com/hummer', 'https://buy.cars45.com/hyundai', 'https://buy.cars45.com/infiniti', 'https://buy.cars45.com/infinity', 'https://buy.cars45.com/innoson', 'https://buy.cars45.com/isuzu', 'https://buy.cars45.com/cars?filter=7046', 'https://buy.cars45.com/cars?filter=1904', 'https://buy.cars45.com/jaguar', 'https://buy.cars45.com/jeep', 'https://buy.cars45.com/kia', 'https://buy.cars45.com/king', 'https://buy.cars45.com/land-rover', 'https://buy.cars45.com/lexus', 'https://buy.cars45.com/lincoln', 'https://buy.cars45.com/mazda', 'https://buy.cars45.com/mercedes', 'https://buy.cars45.com/cars?filter=48', 'https://buy.cars45.com/mercury', 'https://buy.cars45.com/mg', 'https://buy.cars45.com/mini', 'https://buy.cars45.com/mitsubishi', 'https://buy.cars45.com/nissan', 'https://buy.cars45.com/opel', 'https://buy.cars45.com/peugeot', 'https://buy.cars45.com/pontiac', 'https://buy.cars45.com/porsche', 'https://buy.cars45.com/renault', 'https://buy.cars45.com/rover', 'https://buy.cars45.com/saturn', 'https://buy.cars45.com/scion', 'https://buy.cars45.com/skoda', 'https://buy.cars45.com/ssangyong', 'https://buy.cars45.com/suzuki', 'https://buy.cars45.com/tata', 'https://buy.cars45.com/toyota', 'https://buy.cars45.com/volkswagen', 'https://buy.cars45.com/volvo', 'https://buy.cars45.com/acura', 'https://buy.cars45.com/audi', 'https://buy.cars45.com/bentley', 'https://buy.cars45.com/bmw', 'https://buy.cars45.com/brilliance', 'https://buy.cars45.com/buick', 'https://buy.cars45.com/cadillac', 'https://buy.cars45.com/changan', 'https://buy.cars45.com/chevrolet', 'https://buy.cars45.com/chrysler', 'https://buy.cars45.com/citroen', 'https://buy.cars45.com/daewoo', 'https://buy.cars45.com/dodge', 'https://buy.cars45.com/fiat', 'https://buy.cars45.com/ford', 'https://buy.cars45.com/foton', 'https://buy.cars45.com/gac', 'https://buy.cars45.com/geely', 'https://buy.cars45.com/gmc', 'https://buy.cars45.com/haima', 'https://buy.cars45.com/honda', 'https://buy.cars45.com/hummer', 'https://buy.cars45.com/hyundai', 'https://buy.cars45.com/infiniti', 'https://buy.cars45.com/infinity', 'https://buy.cars45.com/innoson', 'https://buy.cars45.com/isuzu', 'https://buy.cars45.com/cars?filter=7046', 'https://buy.cars45.com/cars?filter=1904', 'https://buy.cars45.com/jaguar', 'https://buy.cars45.com/jeep', 'https://buy.cars45.com/kia', 'https://buy.cars45.com/king', 'https://buy.cars45.com/land-rover', 'https://buy.cars45.com/lexus', 'https://buy.cars45.com/lincoln', 'https://buy.cars45.com/mazda', 'https://buy.cars45.com/mercedes', 'https://buy.cars45.com/cars?filter=48', 'https://buy.cars45.com/mercury', 'https://buy.cars45.com/mg', 'https://buy.cars45.com/mini', 'https://buy.cars45.com/mitsubishi', 'https://buy.cars45.com/nissan', 'https://buy.cars45.com/opel', 'https://buy.cars45.com/peugeot', 'https://buy.cars45.com/pontiac', 'https://buy.cars45.com/porsche', 'https://buy.cars45.com/renault', 'https://buy.cars45.com/rover', 'https://buy.cars45.com/saturn', 'https://buy.cars45.com/scion', 'https://buy.cars45.com/skoda', 'https://buy.cars45.com/ssangyong', 'https://buy.cars45.com/suzuki', 'https://buy.cars45.com/tata', 'https://buy.cars45.com/toyota', 'https://buy.cars45.com/volkswagen', 'https://buy.cars45.com/volvo']\n"
     ]
    }
   ],
   "source": [
    "car_brands = []\n",
    "brand_links = []\n",
    "for each in car_cat:\n",
    "    if each.a ==None:\n",
    "        pass\n",
    "    else:\n",
    "        brands = each.a.text\n",
    "        link = each.a.attrs['href']\n",
    "        car_brands.append(brands)\n",
    "        brand_links.append(link)\n",
    "print('Iteration Done')\n",
    "print(car_brands)\n",
    "print(brand_links)"
   ]
  },
  {
   "cell_type": "code",
   "execution_count": 26,
   "metadata": {},
   "outputs": [],
   "source": [
    "url = brand_links[0]\n",
    "response = requests.get(url)\n",
    "car_brands_soup = BeautifulSoup(response.text, 'html.parser')"
   ]
  },
  {
   "cell_type": "code",
   "execution_count": 25,
   "metadata": {},
   "outputs": [
    {
     "data": {
      "text/plain": [
       "'https://buy.cars45.com/acura'"
      ]
     },
     "execution_count": 25,
     "metadata": {},
     "output_type": "execute_result"
    }
   ],
   "source": [
    "brand_links[0]\n",
    "print(brand_links[0]+ '')"
   ]
  },
  {
   "cell_type": "code",
   "execution_count": null,
   "metadata": {},
   "outputs": [],
   "source": [
    "#to do both page we need to go from page=1 to page=2. we will likely need to use a try except.\n",
    "\n",
    "# https://buy.cars45.com/cars?filter=1&page=2"
   ]
  },
  {
   "cell_type": "code",
   "execution_count": 56,
   "metadata": {},
   "outputs": [
    {
     "data": {
      "text/plain": [
       "'\\n \\n \\n \\n E \\n \\n \\n \\n \\n                                                                                 2 0 0 3   A c u r a   M d x \\n                                                                                 \\n \\n \\n \\n \\n N i g e r i a n   U s e d \\n \\n                                                                                                                                                             ₦   5 6 1 , 0 0 0 \\n                                                                                                                                                                 \\n                                                                         \\n \\n \\n \\n M i l e a g e :     2 1 9 , 4 1 0   K m \\n \\n \\n Y e a r :   2 0 0 3 \\n \\n \\n C a r   I D :   N G - 4 4 5 7 6 8 \\n \\n \\n \\n \\n \\n \\n \\n \\n \\n \\n \\n \\n                                                                                                                                                                 O n i t s h a   -   S N B \\n                                                                                                                                                                                                                                                 ,   O n i t s h a \\n                                                                                 \\n                                                                             \\n \\n \\n'"
      ]
     },
     "execution_count": 56,
     "metadata": {},
     "output_type": "execute_result"
    }
   ],
   "source": [
    "car_cat = car_brands_soup.find_all('div',{'class' :\"product_box\"} )\n",
    "' '.join(car_cat[0].text)\n"
   ]
  },
  {
   "cell_type": "code",
   "execution_count": 122,
   "metadata": {},
   "outputs": [
    {
     "data": {
      "text/plain": [
       "'https://buy.cars45.com/cars/acura-mdx-2003-automatic-ng-445768?filter=1'"
      ]
     },
     "execution_count": 122,
     "metadata": {},
     "output_type": "execute_result"
    }
   ],
   "source": [
    " car_cat[0].a.attrs['href']"
   ]
  },
  {
   "cell_type": "code",
   "execution_count": 103,
   "metadata": {},
   "outputs": [],
   "source": [
    "import re\n",
    "pattern = re.compile(r'\\s+')\n",
    "sentence = re.sub(pattern, '|', x)\n",
    "pat = sentence.split('|')\n",
    "pat = [line.strip() for line in pat]\n",
    "\n",
    " \n",
    "\n",
    "grade = pat[1]\n",
    "car_make = ' '.join(pat[3:5])\n",
    "use_location = ' '.join(pat[5:7])\n",
    "price = pat[8]\n",
    "mileage = pat[10]\n",
    "year = pat[13]\n",
    "car_id = pat[16]\n",
    "car_location = pat[17]"
   ]
  },
  {
   "cell_type": "code",
   "execution_count": 108,
   "metadata": {},
   "outputs": [
    {
     "name": "stdout",
     "output_type": "stream",
     "text": [
      "D Acura Tl Foreign Used 1,661,000 105,564 2005 NG-435003 Sango-Ota\n"
     ]
    }
   ],
   "source": [
    "print(grade,car_make,use_location,price,mileage,year,car_id,car_location)"
   ]
  },
  {
   "cell_type": "code",
   "execution_count": 99,
   "metadata": {},
   "outputs": [
    {
     "data": {
      "text/plain": [
       "'Nigerian Used'"
      ]
     },
     "execution_count": 99,
     "metadata": {},
     "output_type": "execute_result"
    }
   ],
   "source": [
    "use_location"
   ]
  },
  {
   "cell_type": "code",
   "execution_count": 149,
   "metadata": {},
   "outputs": [],
   "source": [
    "grades = []\n",
    "car_makes = []\n",
    "use_locations = []\n",
    "prices = []\n",
    "mileages = []\n",
    "years = []\n",
    "car_ids = []\n",
    "car_locations = []\n",
    "indi_car_links = []\n",
    "\n",
    "for each in car_cat:\n",
    "    indi_car_link = each.a.attrs['href']\n",
    "    x = each.text\n",
    "    import re\n",
    "    pattern = re.compile(r'\\s+')\n",
    "    sentence = re.sub(pattern, '|', x)\n",
    "    pat = sentence.split('|')\n",
    "    pat = [line.strip() for line in pat]\n",
    "        \n",
    "    grade = pat[1]\n",
    "    car_make = ' '.join(pat[3:5])\n",
    "    use_location = ' '.join(pat[5:7])\n",
    "    price = pat[8]\n",
    "    mileage = pat[10]\n",
    "    year = pat[13]\n",
    "    car_id = pat[16]\n",
    "    car_location = pat[17]\n",
    "    \n",
    "    grades.append(grade) \n",
    "    car_makes.append(car_make) \n",
    "    use_locations.append(use_location)\n",
    "    prices.append(price)\n",
    "    mileages.append(mileage)\n",
    "    years.append(year)\n",
    "    car_ids.append(car_id)\n",
    "    car_locations.append(car_location)\n",
    "    indi_car_links.append(indi_car_link)\n",
    "    \n",
    "    \n",
    "    "
   ]
  },
  {
   "cell_type": "code",
   "execution_count": 150,
   "metadata": {},
   "outputs": [],
   "source": [
    "car_types = []\n",
    "fuel_usages = []\n",
    "gear_types = []\n",
    "\n",
    "for each in indi_car_links:\n",
    "    url = each\n",
    "    response = requests.get(url)\n",
    "    indi_car_soup = BeautifulSoup(response.text, 'html.parser')\n",
    "\n",
    "\n",
    "    indi_car = indi_car_soup.find_all('div',{'class' :\"row\"} )\n",
    "    \n",
    "    x = indi_car[2].text\n",
    "    import re\n",
    "    pattern = re.compile(r'\\s+')\n",
    "    sentence = re.sub(pattern, '|', x)\n",
    "    pat = sentence.split('|')\n",
    "    pat = [line.strip() for line in pat]\n",
    "\n",
    "    car_type = pat[1]\n",
    "    fuel_usage = pat[2]\n",
    "    gear_type = pat[3]\n",
    "    \n",
    "    car_types.append(car_type)\n",
    "    fuel_usages.append(fuel_usage)\n",
    "    gear_types.append(gear_type)\n"
   ]
  },
  {
   "cell_type": "code",
   "execution_count": 154,
   "metadata": {},
   "outputs": [
    {
     "name": "stdout",
     "output_type": "stream",
     "text": [
      "60\n"
     ]
    },
    {
     "data": {
      "text/plain": [
       "['Petrol',\n",
       " 'Petrol',\n",
       " 'Petrol',\n",
       " 'Petrol',\n",
       " 'Petrol',\n",
       " 'Petrol',\n",
       " 'Petrol',\n",
       " 'Petrol',\n",
       " 'Petrol',\n",
       " 'Petrol',\n",
       " 'Petrol',\n",
       " 'Petrol',\n",
       " 'Petrol',\n",
       " 'Petrol',\n",
       " 'Petrol',\n",
       " 'Petrol',\n",
       " 'Petrol',\n",
       " 'Petrol',\n",
       " 'Petrol',\n",
       " 'Petrol',\n",
       " 'Petrol',\n",
       " 'Petrol',\n",
       " 'Petrol',\n",
       " 'Petrol',\n",
       " 'Petrol',\n",
       " 'Petrol',\n",
       " 'Petrol',\n",
       " 'Petrol',\n",
       " 'Petrol',\n",
       " 'Petrol',\n",
       " 'Petrol',\n",
       " 'Petrol',\n",
       " 'Petrol',\n",
       " 'Petrol',\n",
       " 'Petrol',\n",
       " 'Petrol',\n",
       " 'Petrol',\n",
       " 'Petrol',\n",
       " 'Petrol',\n",
       " 'Petrol',\n",
       " 'Petrol',\n",
       " 'Petrol',\n",
       " 'Petrol',\n",
       " 'Petrol',\n",
       " 'Petrol',\n",
       " 'Petrol',\n",
       " 'Petrol',\n",
       " 'Petrol',\n",
       " 'Petrol',\n",
       " 'Petrol',\n",
       " 'Petrol',\n",
       " 'Petrol',\n",
       " 'Petrol',\n",
       " 'Petrol',\n",
       " 'Petrol',\n",
       " 'Petrol',\n",
       " 'Petrol',\n",
       " 'Petrol',\n",
       " 'Petrol',\n",
       " 'Petrol']"
      ]
     },
     "execution_count": 154,
     "metadata": {},
     "output_type": "execute_result"
    }
   ],
   "source": [
    "print(len(fuel_usages))\n",
    "fuel_usages"
   ]
  },
  {
   "cell_type": "code",
   "execution_count": null,
   "metadata": {},
   "outputs": [],
   "source": []
  },
  {
   "cell_type": "code",
   "execution_count": 124,
   "metadata": {},
   "outputs": [
    {
     "name": "stdout",
     "output_type": "stream",
     "text": [
      "['https://buy.cars45.com/cars/acura-mdx-2003-automatic-ng-445768?filter=1', 'https://buy.cars45.com/cars/acura-tsx-2010-automatic-ng-444040?filter=1', 'https://buy.cars45.com/cars/acura-tl-2009-automatic-ng-441456?filter=1', 'https://buy.cars45.com/cars/acura-mdx-2006-automatic-ng-440710?filter=1', 'https://buy.cars45.com/cars/acura-tl-2012-automatic-ng-438423?filter=1', 'https://buy.cars45.com/cars/acura-tl-2005-automatic-ng-435003?filter=1', 'https://buy.cars45.com/cars/acura-rl-2004-automatic-ng-438278?filter=1', 'https://buy.cars45.com/cars/acura-mdx-2001-automatic-ng-438684?filter=1', 'https://buy.cars45.com/cars/acura-mdx-2001-ng-435079?filter=1', 'https://buy.cars45.com/cars/acura-mdx-2001-automatic-ng-438789?filter=1', 'https://buy.cars45.com/cars/acura-mdx-2007-automatic-ng-421290?filter=1', 'https://buy.cars45.com/cars/acura-tl-2001-automatic-ng-434155?filter=1', 'https://buy.cars45.com/cars/acura-zdx-2010-automatic-ng-275085?filter=1', 'https://buy.cars45.com/cars/acura-zdx-2012-ng-433053?filter=1', 'https://buy.cars45.com/cars/acura-rsx-2004-automatic-ng-433065?filter=1', 'https://buy.cars45.com/cars/acura-zdx-2012-automatic-ng-432931?filter=1', 'https://buy.cars45.com/cars/acura-mdx-2008-automatic-ng-432723?filter=1', 'https://buy.cars45.com/cars/acura-mdx-2006-automatic-ng-432013?filter=1', 'https://buy.cars45.com/cars/acura-zdx-2012-automatic-ng-430615?filter=1', 'https://buy.cars45.com/cars/acura-mdx-2004-automatic-ng-427333?filter=1', 'https://buy.cars45.com/cars/acura-tsx-2014-4-cylinder-dohc-16v-fwd-ng-427324?filter=1', 'https://buy.cars45.com/cars/acura-mdx-2005-automatic-ng-426501?filter=1', 'https://buy.cars45.com/cars/acura-tlx-2015-ng-426456?filter=1', 'https://buy.cars45.com/cars/acura-el-2001-automatic-ng-423386?filter=1', 'https://buy.cars45.com/cars/acura-mdx-2005-automatic-ng-422914?filter=1', 'https://buy.cars45.com/cars/acura-mdx-2006-automatic-ng-421172?filter=1', 'https://buy.cars45.com/cars/acura-tl-2005-automatic-ng-419875?filter=1', 'https://buy.cars45.com/cars/acura-tl-2009-automatic-ng-419582?filter=1', 'https://buy.cars45.com/cars/acura-mdx-2002-automatic-ng-418991?filter=1', 'https://buy.cars45.com/cars/acura-zdx-2010-suv-ng-417984?filter=1', 'https://buy.cars45.com/cars/acura-mdx-2001-automatic-ng-416778?filter=1', 'https://buy.cars45.com/cars/acura-tl-1999-automatic-ng-416795?filter=1', 'https://buy.cars45.com/cars/acura-tl-2010-v6-engine-dohc-24v-fwd-ng-416329?filter=1', 'https://buy.cars45.com/cars/acura-mdx-2010-automatic-ng-414129?filter=1', 'https://buy.cars45.com/cars/acura-mdx-2006-automatic-ng-413822?filter=1', 'https://buy.cars45.com/cars/acura-mdx-2004-automatic-ng-413026?filter=1', 'https://buy.cars45.com/cars/acura-mdx-2010-v6-engine-dohc-24-v-awd-ng-409735?filter=1', 'https://buy.cars45.com/cars/acura-tl-2009-automatic-ng-409834?filter=1', 'https://buy.cars45.com/cars/acura-mdx-2008-automatic-ng-409706?filter=1', 'https://buy.cars45.com/cars/acura-mdx-2007-automatic-ng-409396?filter=1', 'https://buy.cars45.com/cars/acura-rl-2000-automatic-ng-408408?filter=1', 'https://buy.cars45.com/cars/acura-mdx-2002-automatic-ng-404594?filter=1', 'https://buy.cars45.com/cars/acura-tsx-2010-automatic-ng-353437?filter=1', 'https://buy.cars45.com/cars/acura-mdx-2007-automatic-ng-401562?filter=1', 'https://buy.cars45.com/cars/acura-mdx-2002-automatic-ng-401312?filter=1', 'https://buy.cars45.com/cars/acura-mdx-2002-automatic-ng-399697?filter=1', 'https://buy.cars45.com/cars/acura-mdx-2002-automatic-ng-393961?filter=1', 'https://buy.cars45.com/cars/acura-mdx-2001-automatic-ng-395852?filter=1', 'https://buy.cars45.com/cars/acura-tl-2000-automatic-ng-395828?filter=1', 'https://buy.cars45.com/cars/acura-tl-2012-automatic-ng-395071?filter=1', 'https://buy.cars45.com/cars/acura-tl-2006-automatic-ng-376602?filter=1', 'https://buy.cars45.com/cars/acura-rdx-2007-automatic-ng-393687?filter=1', 'https://buy.cars45.com/cars/acura-zdx-2013-v6-ng-388562?filter=1', 'https://buy.cars45.com/cars/acura-mdx-2001-automatic-ng-387826?filter=1', 'https://buy.cars45.com/cars/acura-mdx-2002-automatic-ng-386701?filter=1', 'https://buy.cars45.com/cars/acura-mdx-2008-automatic-ng-385551?filter=1', 'https://buy.cars45.com/cars/acura-mdx-2011-automatic-ng-384331?filter=1', 'https://buy.cars45.com/cars/acura-el-2002-automatic-ng-383518?filter=1', 'https://buy.cars45.com/cars/acura-mdx-2003-automatic-ng-381907?filter=1', 'https://buy.cars45.com/cars/acura-tl-2005-automatic-ng-382874?filter=1']\n"
     ]
    },
    {
     "data": {
      "text/plain": [
       "60"
      ]
     },
     "execution_count": 124,
     "metadata": {},
     "output_type": "execute_result"
    }
   ],
   "source": [
    "print(indi_car_links)\n",
    "len(indi_car_links) "
   ]
  },
  {
   "cell_type": "code",
   "execution_count": 126,
   "metadata": {},
   "outputs": [],
   "source": [
    "url = indi_car_links[0]\n",
    "response = requests.get(url)\n",
    "indi_car_soup = BeautifulSoup(response.text, 'html.parser')"
   ]
  },
  {
   "cell_type": "code",
   "execution_count": 125,
   "metadata": {},
   "outputs": [
    {
     "data": {
      "text/plain": [
       "'https://buy.cars45.com/cars/acura-mdx-2003-automatic-ng-445768?filter=1'"
      ]
     },
     "execution_count": 125,
     "metadata": {},
     "output_type": "execute_result"
    }
   ],
   "source": [
    "indi_car_links[0]"
   ]
  },
  {
   "cell_type": "code",
   "execution_count": 135,
   "metadata": {},
   "outputs": [],
   "source": [
    "indi_car = indi_car_soup.find_all('div',{'class' :\"row\"} )\n",
    "\n"
   ]
  },
  {
   "cell_type": "code",
   "execution_count": 136,
   "metadata": {},
   "outputs": [
    {
     "data": {
      "text/plain": [
       "'\\n\\n\\n\\n\\n\\n\\n                                                            Suv\\n                                                                                                                    \\n\\n\\n\\n\\n\\n\\n\\n\\n\\n                                                         Petrol\\n                                                    \\n\\n\\n\\n\\n\\n\\n\\n\\n\\n                                                        automatic\\n                                                    \\n\\n\\n\\n\\n\\n\\n\\n\\n\\n\\n'"
      ]
     },
     "execution_count": 136,
     "metadata": {},
     "output_type": "execute_result"
    }
   ],
   "source": [
    "indi_car[2].text"
   ]
  },
  {
   "cell_type": "code",
   "execution_count": null,
   "metadata": {},
   "outputs": [],
   "source": [
    "' '.join(indi_car[2].text).strip()"
   ]
  },
  {
   "cell_type": "code",
   "execution_count": 137,
   "metadata": {},
   "outputs": [],
   "source": [
    "x = indi_car[2].text\n",
    "import re\n",
    "pattern = re.compile(r'\\s+')\n",
    "sentence = re.sub(pattern, '|', x)\n",
    "pat = sentence.split('|')\n",
    "pat = [line.strip() for line in pat]\n",
    "        \n",
    "    "
   ]
  },
  {
   "cell_type": "code",
   "execution_count": 148,
   "metadata": {},
   "outputs": [
    {
     "data": {
      "text/plain": [
       "'automatic'"
      ]
     },
     "execution_count": 148,
     "metadata": {},
     "output_type": "execute_result"
    }
   ],
   "source": [
    "# car_type = pat[1]\n",
    "# fuel_usage = pat[2]\n",
    "# gear_type = pat[3]\n",
    "grade = pat[3]\n",
    "grade"
   ]
  },
  {
   "cell_type": "code",
   "execution_count": null,
   "metadata": {},
   "outputs": [],
   "source": [
    "sentence = re.sub(pattern, '', sentence)"
   ]
  },
  {
   "cell_type": "code",
   "execution_count": 91,
   "metadata": {},
   "outputs": [
    {
     "data": {
      "text/plain": [
       "',,,,E,,,,,,,,,,,,,,,,,,,,,,,,,,,,,,,,,,,,,,,,,,,,,,2,0,0,3,,A,c,u,r,a,,M,d,x,,,,,,,,,,,,,,,,,,,,,,,,,,,,,,,,,,,,,,,,,,,,,,,N,i,g,e,r,i,a,n,,U,s,e,d,,,,,,,,,,,,,,,,,,,,,,,,,,,,,,,,,,,,,,,,,,,,,,,,,,,,,,,,,,,,,,,,,,,,,,,,,,,,,,,,,₦,,5,6,1,,,0,0,0,,,,,,,,,,,,,,,,,,,,,,,,,,,,,,,,,,,,,,,,,,,,,,,,,,,,,,,,,,,,,,,,,,,,,,,,,,,,,,,,,,,,,,,,,,,,,,,,,,,,,,,,,,,,,,,,,,,,,,,,,,,M,i,l,e,a,g,e,:,,,2,1,9,,,4,1,0,,K,m,,,,Y,e,a,r,:,,2,0,0,3,,,,C,a,r,,I,D,:,,N,G,-,4,4,5,7,6,8,,,,,,,,,,,,,,,,,,,,,,,,,,,,,,,,,,,,,,,,,,,,,,,,,,,,,,,,,,,,,,,,,,,,,,,,,,,,,,,,,,,,,,,,,,,,,,O,n,i,t,s,h,a,,-,,S,N,B,,,,,,,,,,,,,,,,,,,,,,,,,,,,,,,,,,,,,,,,,,,,,,,,,,,,,,,,,,,,,,,,,,,,,,,,,,,,,,,,,,,,,,,,,,,,,,,,,,,,,,,,,,,,,,,,,,,,,,,,,,,,,O,n,i,t,s,h,a,,,,,,,,,,,,,,,,,,,,,,,,,,,,,,,,,,,,,,,,,,,,,,,,,,,,,,,,,,,,,,,,,,,,,,,,,,,,,,,,,,,'"
      ]
     },
     "execution_count": 91,
     "metadata": {},
     "output_type": "execute_result"
    }
   ],
   "source": [
    "x=','.join([line.rstrip() for line in car_cat[0].text]).replace('','')\n",
    "x= [line.replace(',','')]"
   ]
  },
  {
   "cell_type": "code",
   "execution_count": 76,
   "metadata": {},
   "outputs": [
    {
     "data": {
      "text/plain": [
       "['',\n",
       " '',\n",
       " '',\n",
       " '',\n",
       " 'E',\n",
       " '',\n",
       " '',\n",
       " '',\n",
       " '',\n",
       " '',\n",
       " '',\n",
       " '',\n",
       " '',\n",
       " '',\n",
       " '',\n",
       " '',\n",
       " '',\n",
       " '',\n",
       " '',\n",
       " '',\n",
       " '',\n",
       " '',\n",
       " '',\n",
       " '',\n",
       " '',\n",
       " '',\n",
       " '',\n",
       " '',\n",
       " '',\n",
       " '',\n",
       " '',\n",
       " '',\n",
       " '',\n",
       " '',\n",
       " '',\n",
       " '',\n",
       " '',\n",
       " '',\n",
       " '',\n",
       " '',\n",
       " '',\n",
       " '',\n",
       " '',\n",
       " '',\n",
       " '',\n",
       " '',\n",
       " '',\n",
       " '',\n",
       " '',\n",
       " '',\n",
       " '2',\n",
       " '0',\n",
       " '0',\n",
       " '3',\n",
       " '',\n",
       " 'A',\n",
       " 'c',\n",
       " 'u',\n",
       " 'r',\n",
       " 'a',\n",
       " '',\n",
       " 'M',\n",
       " 'd',\n",
       " 'x',\n",
       " '',\n",
       " '',\n",
       " '',\n",
       " '',\n",
       " '',\n",
       " '',\n",
       " '',\n",
       " '',\n",
       " '',\n",
       " '',\n",
       " '',\n",
       " '',\n",
       " '',\n",
       " '',\n",
       " '',\n",
       " '',\n",
       " '',\n",
       " '',\n",
       " '',\n",
       " '',\n",
       " '',\n",
       " '',\n",
       " '',\n",
       " '',\n",
       " '',\n",
       " '',\n",
       " '',\n",
       " '',\n",
       " '',\n",
       " '',\n",
       " '',\n",
       " '',\n",
       " '',\n",
       " '',\n",
       " '',\n",
       " '',\n",
       " '',\n",
       " '',\n",
       " '',\n",
       " '',\n",
       " '',\n",
       " '',\n",
       " '',\n",
       " '',\n",
       " '',\n",
       " '',\n",
       " 'N',\n",
       " 'i',\n",
       " 'g',\n",
       " 'e',\n",
       " 'r',\n",
       " 'i',\n",
       " 'a',\n",
       " 'n',\n",
       " '',\n",
       " 'U',\n",
       " 's',\n",
       " 'e',\n",
       " 'd',\n",
       " '',\n",
       " '',\n",
       " '',\n",
       " '',\n",
       " '',\n",
       " '',\n",
       " '',\n",
       " '',\n",
       " '',\n",
       " '',\n",
       " '',\n",
       " '',\n",
       " '',\n",
       " '',\n",
       " '',\n",
       " '',\n",
       " '',\n",
       " '',\n",
       " '',\n",
       " '',\n",
       " '',\n",
       " '',\n",
       " '',\n",
       " '',\n",
       " '',\n",
       " '',\n",
       " '',\n",
       " '',\n",
       " '',\n",
       " '',\n",
       " '',\n",
       " '',\n",
       " '',\n",
       " '',\n",
       " '',\n",
       " '',\n",
       " '',\n",
       " '',\n",
       " '',\n",
       " '',\n",
       " '',\n",
       " '',\n",
       " '',\n",
       " '',\n",
       " '',\n",
       " '',\n",
       " '',\n",
       " '',\n",
       " '',\n",
       " '',\n",
       " '',\n",
       " '',\n",
       " '',\n",
       " '',\n",
       " '',\n",
       " '',\n",
       " '',\n",
       " '',\n",
       " '',\n",
       " '',\n",
       " '',\n",
       " '',\n",
       " '',\n",
       " '',\n",
       " '',\n",
       " '',\n",
       " '',\n",
       " '',\n",
       " '',\n",
       " '',\n",
       " '',\n",
       " '',\n",
       " '',\n",
       " '',\n",
       " '',\n",
       " '',\n",
       " '',\n",
       " '',\n",
       " '',\n",
       " '',\n",
       " '₦',\n",
       " '',\n",
       " '5',\n",
       " '6',\n",
       " '1',\n",
       " ',',\n",
       " '0',\n",
       " '0',\n",
       " '0',\n",
       " '',\n",
       " '',\n",
       " '',\n",
       " '',\n",
       " '',\n",
       " '',\n",
       " '',\n",
       " '',\n",
       " '',\n",
       " '',\n",
       " '',\n",
       " '',\n",
       " '',\n",
       " '',\n",
       " '',\n",
       " '',\n",
       " '',\n",
       " '',\n",
       " '',\n",
       " '',\n",
       " '',\n",
       " '',\n",
       " '',\n",
       " '',\n",
       " '',\n",
       " '',\n",
       " '',\n",
       " '',\n",
       " '',\n",
       " '',\n",
       " '',\n",
       " '',\n",
       " '',\n",
       " '',\n",
       " '',\n",
       " '',\n",
       " '',\n",
       " '',\n",
       " '',\n",
       " '',\n",
       " '',\n",
       " '',\n",
       " '',\n",
       " '',\n",
       " '',\n",
       " '',\n",
       " '',\n",
       " '',\n",
       " '',\n",
       " '',\n",
       " '',\n",
       " '',\n",
       " '',\n",
       " '',\n",
       " '',\n",
       " '',\n",
       " '',\n",
       " '',\n",
       " '',\n",
       " '',\n",
       " '',\n",
       " '',\n",
       " '',\n",
       " '',\n",
       " '',\n",
       " '',\n",
       " '',\n",
       " '',\n",
       " '',\n",
       " '',\n",
       " '',\n",
       " '',\n",
       " '',\n",
       " '',\n",
       " '',\n",
       " '',\n",
       " '',\n",
       " '',\n",
       " '',\n",
       " '',\n",
       " '',\n",
       " '',\n",
       " '',\n",
       " '',\n",
       " '',\n",
       " '',\n",
       " '',\n",
       " '',\n",
       " '',\n",
       " '',\n",
       " '',\n",
       " '',\n",
       " '',\n",
       " '',\n",
       " '',\n",
       " '',\n",
       " '',\n",
       " '',\n",
       " '',\n",
       " '',\n",
       " '',\n",
       " '',\n",
       " '',\n",
       " '',\n",
       " '',\n",
       " '',\n",
       " '',\n",
       " '',\n",
       " '',\n",
       " '',\n",
       " '',\n",
       " '',\n",
       " '',\n",
       " '',\n",
       " '',\n",
       " '',\n",
       " '',\n",
       " '',\n",
       " '',\n",
       " '',\n",
       " '',\n",
       " '',\n",
       " 'M',\n",
       " 'i',\n",
       " 'l',\n",
       " 'e',\n",
       " 'a',\n",
       " 'g',\n",
       " 'e',\n",
       " ':',\n",
       " '',\n",
       " '',\n",
       " '2',\n",
       " '1',\n",
       " '9',\n",
       " ',',\n",
       " '4',\n",
       " '1',\n",
       " '0',\n",
       " '',\n",
       " 'K',\n",
       " 'm',\n",
       " '',\n",
       " '',\n",
       " '',\n",
       " 'Y',\n",
       " 'e',\n",
       " 'a',\n",
       " 'r',\n",
       " ':',\n",
       " '',\n",
       " '2',\n",
       " '0',\n",
       " '0',\n",
       " '3',\n",
       " '',\n",
       " '',\n",
       " '',\n",
       " 'C',\n",
       " 'a',\n",
       " 'r',\n",
       " '',\n",
       " 'I',\n",
       " 'D',\n",
       " ':',\n",
       " '',\n",
       " 'N',\n",
       " 'G',\n",
       " '-',\n",
       " '4',\n",
       " '4',\n",
       " '5',\n",
       " '7',\n",
       " '6',\n",
       " '8',\n",
       " '',\n",
       " '',\n",
       " '',\n",
       " '',\n",
       " '',\n",
       " '',\n",
       " '',\n",
       " '',\n",
       " '',\n",
       " '',\n",
       " '',\n",
       " '',\n",
       " '',\n",
       " '',\n",
       " '',\n",
       " '',\n",
       " '',\n",
       " '',\n",
       " '',\n",
       " '',\n",
       " '',\n",
       " '',\n",
       " '',\n",
       " '',\n",
       " '',\n",
       " '',\n",
       " '',\n",
       " '',\n",
       " '',\n",
       " '',\n",
       " '',\n",
       " '',\n",
       " '',\n",
       " '',\n",
       " '',\n",
       " '',\n",
       " '',\n",
       " '',\n",
       " '',\n",
       " '',\n",
       " '',\n",
       " '',\n",
       " '',\n",
       " '',\n",
       " '',\n",
       " '',\n",
       " '',\n",
       " '',\n",
       " '',\n",
       " '',\n",
       " '',\n",
       " '',\n",
       " '',\n",
       " '',\n",
       " '',\n",
       " '',\n",
       " '',\n",
       " '',\n",
       " '',\n",
       " '',\n",
       " '',\n",
       " '',\n",
       " '',\n",
       " '',\n",
       " '',\n",
       " '',\n",
       " '',\n",
       " '',\n",
       " '',\n",
       " '',\n",
       " '',\n",
       " '',\n",
       " '',\n",
       " '',\n",
       " '',\n",
       " '',\n",
       " '',\n",
       " '',\n",
       " '',\n",
       " '',\n",
       " '',\n",
       " '',\n",
       " '',\n",
       " '',\n",
       " '',\n",
       " '',\n",
       " '',\n",
       " '',\n",
       " '',\n",
       " '',\n",
       " '',\n",
       " '',\n",
       " '',\n",
       " 'O',\n",
       " 'n',\n",
       " 'i',\n",
       " 't',\n",
       " 's',\n",
       " 'h',\n",
       " 'a',\n",
       " '',\n",
       " '-',\n",
       " '',\n",
       " 'S',\n",
       " 'N',\n",
       " 'B',\n",
       " '',\n",
       " '',\n",
       " '',\n",
       " '',\n",
       " '',\n",
       " '',\n",
       " '',\n",
       " '',\n",
       " '',\n",
       " '',\n",
       " '',\n",
       " '',\n",
       " '',\n",
       " '',\n",
       " '',\n",
       " '',\n",
       " '',\n",
       " '',\n",
       " '',\n",
       " '',\n",
       " '',\n",
       " '',\n",
       " '',\n",
       " '',\n",
       " '',\n",
       " '',\n",
       " '',\n",
       " '',\n",
       " '',\n",
       " '',\n",
       " '',\n",
       " '',\n",
       " '',\n",
       " '',\n",
       " '',\n",
       " '',\n",
       " '',\n",
       " '',\n",
       " '',\n",
       " '',\n",
       " '',\n",
       " '',\n",
       " '',\n",
       " '',\n",
       " '',\n",
       " '',\n",
       " '',\n",
       " '',\n",
       " '',\n",
       " '',\n",
       " '',\n",
       " '',\n",
       " '',\n",
       " '',\n",
       " '',\n",
       " '',\n",
       " '',\n",
       " '',\n",
       " '',\n",
       " '',\n",
       " '',\n",
       " '',\n",
       " '',\n",
       " '',\n",
       " '',\n",
       " '',\n",
       " '',\n",
       " '',\n",
       " '',\n",
       " '',\n",
       " '',\n",
       " '',\n",
       " '',\n",
       " '',\n",
       " '',\n",
       " '',\n",
       " '',\n",
       " '',\n",
       " '',\n",
       " '',\n",
       " '',\n",
       " '',\n",
       " '',\n",
       " '',\n",
       " '',\n",
       " '',\n",
       " '',\n",
       " '',\n",
       " '',\n",
       " '',\n",
       " '',\n",
       " '',\n",
       " '',\n",
       " '',\n",
       " '',\n",
       " '',\n",
       " '',\n",
       " '',\n",
       " '',\n",
       " '',\n",
       " '',\n",
       " '',\n",
       " '',\n",
       " '',\n",
       " '',\n",
       " '',\n",
       " '',\n",
       " '',\n",
       " '',\n",
       " '',\n",
       " '',\n",
       " '',\n",
       " '',\n",
       " '',\n",
       " '',\n",
       " '',\n",
       " '',\n",
       " '',\n",
       " '',\n",
       " '',\n",
       " '',\n",
       " ',',\n",
       " '',\n",
       " 'O',\n",
       " 'n',\n",
       " 'i',\n",
       " 't',\n",
       " 's',\n",
       " 'h',\n",
       " 'a',\n",
       " '',\n",
       " '',\n",
       " '',\n",
       " '',\n",
       " '',\n",
       " '',\n",
       " '',\n",
       " '',\n",
       " '',\n",
       " '',\n",
       " '',\n",
       " '',\n",
       " '',\n",
       " '',\n",
       " '',\n",
       " '',\n",
       " '',\n",
       " '',\n",
       " '',\n",
       " '',\n",
       " '',\n",
       " '',\n",
       " '',\n",
       " '',\n",
       " '',\n",
       " '',\n",
       " '',\n",
       " '',\n",
       " '',\n",
       " '',\n",
       " '',\n",
       " '',\n",
       " '',\n",
       " '',\n",
       " '',\n",
       " '',\n",
       " '',\n",
       " '',\n",
       " '',\n",
       " '',\n",
       " '',\n",
       " '',\n",
       " '',\n",
       " '',\n",
       " '',\n",
       " '',\n",
       " '',\n",
       " '',\n",
       " '',\n",
       " '',\n",
       " '',\n",
       " '',\n",
       " '',\n",
       " '',\n",
       " '',\n",
       " '',\n",
       " '',\n",
       " '',\n",
       " '',\n",
       " '',\n",
       " '',\n",
       " '',\n",
       " '',\n",
       " '',\n",
       " '',\n",
       " '',\n",
       " '',\n",
       " '',\n",
       " '',\n",
       " '',\n",
       " '',\n",
       " '',\n",
       " '',\n",
       " '',\n",
       " '',\n",
       " '',\n",
       " '',\n",
       " '',\n",
       " '',\n",
       " '',\n",
       " '',\n",
       " '',\n",
       " '']"
      ]
     },
     "execution_count": 76,
     "metadata": {},
     "output_type": "execute_result"
    }
   ],
   "source": [
    "[line.strip() for line in car_cat[0].text]"
   ]
  },
  {
   "cell_type": "code",
   "execution_count": 40,
   "metadata": {},
   "outputs": [
    {
     "data": {
      "text/plain": [
       "60"
      ]
     },
     "execution_count": 40,
     "metadata": {},
     "output_type": "execute_result"
    }
   ],
   "source": [
    "len(car_cat)"
   ]
  },
  {
   "cell_type": "code",
   "execution_count": null,
   "metadata": {},
   "outputs": [],
   "source": []
  },
  {
   "cell_type": "code",
   "execution_count": 46,
   "metadata": {},
   "outputs": [
    {
     "data": {
      "text/plain": [
       "<a href=\"https://buy.cars45.com/cars/acura-mdx-2003-automatic-ng-445768?filter=1\" tabindex=\"0\">\n",
       "<div class=\"product_grade\" data-placement=\"left\" data-title=\"A car in below average condition, with major wear and tear, needs repair and refurbishment.\" data-toggle=\"tooltip\">E</div>\n",
       "<img alt=\"2003 Acura Mdx\" class=\"img-fluid lazyy\" data-src=\"https://buy.cars45.com/image/cache/placeholder-400x300.png\" src=\"https://buy.cars45.com/image/cache/catalog/Acura-Mdx-2003_a2ef0fba-bbe9-48f3-9afa-df2339ad3e81/frontRight-400x300.jpg?v=0\" title=\"2003 Acura Mdx\"/>\n",
       "</a>"
      ]
     },
     "execution_count": 46,
     "metadata": {},
     "output_type": "execute_result"
    }
   ],
   "source": [
    "car_cat[0].a"
   ]
  },
  {
   "cell_type": "code",
   "execution_count": 49,
   "metadata": {},
   "outputs": [
    {
     "data": {
      "text/plain": [
       "'E'"
      ]
     },
     "execution_count": 49,
     "metadata": {},
     "output_type": "execute_result"
    }
   ],
   "source": [
    "car_grade = car_cat[0].a.text.strip()\n",
    "car_grade"
   ]
  },
  {
   "cell_type": "code",
   "execution_count": 58,
   "metadata": {},
   "outputs": [
    {
     "data": {
      "text/plain": [
       "'2003 Acura Mdx'"
      ]
     },
     "execution_count": 58,
     "metadata": {},
     "output_type": "execute_result"
    }
   ],
   "source": [
    "car_cat[0].h4.text.strip()"
   ]
  },
  {
   "cell_type": "code",
   "execution_count": 59,
   "metadata": {},
   "outputs": [
    {
     "data": {
      "text/plain": [
       "'Nigerian Used'"
      ]
     },
     "execution_count": 59,
     "metadata": {},
     "output_type": "execute_result"
    }
   ],
   "source": [
    "car_cat[0].p.text"
   ]
  },
  {
   "cell_type": "code",
   "execution_count": 81,
   "metadata": {},
   "outputs": [
    {
     "data": {
      "text/plain": [
       "'₦ 561,000'"
      ]
     },
     "execution_count": 81,
     "metadata": {},
     "output_type": "execute_result"
    }
   ],
   "source": [
    "car_cat[0].h5.text.strip()"
   ]
  },
  {
   "cell_type": "code",
   "execution_count": 93,
   "metadata": {},
   "outputs": [
    {
     "data": {
      "text/plain": [
       "'E'"
      ]
     },
     "execution_count": 93,
     "metadata": {},
     "output_type": "execute_result"
    }
   ],
   "source": [
    "car_cat[0].div.text"
   ]
  },
  {
   "cell_type": "code",
   "execution_count": null,
   "metadata": {},
   "outputs": [],
   "source": [
    "car_name = []\n",
    "car_links = []\n",
    "car_\n",
    "for each in car_cat:\n",
    "    if each.a ==None:\n",
    "        pass\n",
    "    else:\n",
    "        brands = each.a.text\n",
    "        link = each.a.attrs['href']\n",
    "        car_brands.append(brands)\n",
    "        brand_links.append(link)\n",
    "print('Iteration Done')\n",
    "print(car_brands)\n",
    "print(brand_links)"
   ]
  },
  {
   "cell_type": "code",
   "execution_count": null,
   "metadata": {},
   "outputs": [],
   "source": [
    "indi_car_link = "
   ]
  },
  {
   "cell_type": "code",
   "execution_count": 41,
   "metadata": {},
   "outputs": [
    {
     "data": {
      "text/plain": [
       "<div class=\"product_box\">\n",
       "<figure>\n",
       "<!-- <div class=\"product_star\">\n",
       "                                  <i class=\"far fa-star star \" id=\"19837\"></i>\n",
       "                                </div> -->\n",
       "<a href=\"https://buy.cars45.com/cars/acura-mdx-2003-automatic-ng-445768?filter=1\" tabindex=\"0\">\n",
       "<div class=\"product_grade\" data-placement=\"left\" data-title=\"A car in below average condition, with major wear and tear, needs repair and refurbishment.\" data-toggle=\"tooltip\">E</div>\n",
       "<img alt=\"2003 Acura Mdx\" class=\"img-fluid lazyy\" data-src=\"https://buy.cars45.com/image/cache/placeholder-400x300.png\" src=\"https://buy.cars45.com/image/cache/catalog/Acura-Mdx-2003_a2ef0fba-bbe9-48f3-9afa-df2339ad3e81/frontRight-400x300.jpg?v=0\" title=\"2003 Acura Mdx\"/>\n",
       "</a></figure>\n",
       "<figcaption>\n",
       "<h4>\n",
       "                                        2003 Acura Mdx\n",
       "                                        <span class=\"float-right\">\n",
       "<!-- SNB-->\n",
       "<img alt=\"Image\" class=\"img-fluid img-25\" src=\"catalog/view/assets/images/c452.png\" style=\"min-width:100px;\"/>\n",
       "</span>\n",
       "</h4>\n",
       "<p class=\"text-small car-origion\">Nigerian Used</p>\n",
       "<h5 class=\"price\">\n",
       "                                                                              ₦ 561,000\n",
       "                                                                                \n",
       "                                    </h5>\n",
       "<div class=\"row gutter-10\">\n",
       "<div class=\"col-10\">\n",
       "<p class=\"text-small mb-1\">\n",
       "<span class=\"text-muted\">Mileage:</span> <span class=\"intersemibold\"> 219,410 Km</span>\n",
       "</p>\n",
       "<p class=\"text-small mb-1\">\n",
       "<span class=\"text-muted\">Year:</span> <span class=\"intersemibold\">2003</span>\n",
       "</p>\n",
       "<p class=\"text-small mb-1\">\n",
       "<span class=\"text-muted\">Car ID:</span> <span class=\"intersemibold\">NG-445768</span>\n",
       "</p>\n",
       "<!-- <p class=\"text-small mb-1\">\n",
       "                                          <span class=\"text-muted\">Model:</span> <span class=\"intersemibold\">Mdx</span>\n",
       "                                        </p>  -->\n",
       "</div>\n",
       "<div class=\"col-2 text-center d-flex align-items-end justify-content-center\">\n",
       "<div class=\"product_star\">\n",
       "<i class=\"far fa-heart star\" id=\"19837\"></i>\n",
       "</div>\n",
       "</div>\n",
       "</div>\n",
       "<!-- <p class=\"text-muted text-small\">\n",
       "                                                                                2003 <i class=\"fas fa-circle extra-small-circle\"></i>\n",
       "                                                                                                                        Mdx <i class=\"fas fa-circle extra-small-circle\"></i>\n",
       "                                                                                                                        219,410 \n",
       "                                                                            </p> -->\n",
       "<footer>\n",
       "<p class=\"text-muted\">\n",
       "                                                                                Onitsha - SNB\n",
       "                                                                                                                        , Onitsha\n",
       "                                        \n",
       "                                      </p>\n",
       "</footer>\n",
       "</figcaption>\n",
       "</div>"
      ]
     },
     "execution_count": 41,
     "metadata": {},
     "output_type": "execute_result"
    }
   ],
   "source": [
    "car_cat[0]"
   ]
  },
  {
   "cell_type": "code",
   "execution_count": null,
   "metadata": {},
   "outputs": [],
   "source": []
  }
 ],
 "metadata": {
  "kernelspec": {
   "display_name": "Python 3",
   "language": "python",
   "name": "python3"
  },
  "language_info": {
   "codemirror_mode": {
    "name": "ipython",
    "version": 3
   },
   "file_extension": ".py",
   "mimetype": "text/x-python",
   "name": "python",
   "nbconvert_exporter": "python",
   "pygments_lexer": "ipython3",
   "version": "3.7.4"
  }
 },
 "nbformat": 4,
 "nbformat_minor": 2
}
